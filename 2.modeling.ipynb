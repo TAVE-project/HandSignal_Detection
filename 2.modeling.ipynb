{
 "cells": [
  {
   "cell_type": "markdown",
   "id": "d4dc887e-3f89-46f9-974d-2707d14d7005",
   "metadata": {},
   "source": [
    "# Restart & Modeling \n",
    "EfficientNetB0가 input shape이 (224,224,3)이라고 함\n",
    "\n",
    "B7은 (600,600,3)"
   ]
  },
  {
   "cell_type": "code",
   "execution_count": 1,
   "id": "aab4c660-50c9-414e-9260-b4d60b735199",
   "metadata": {},
   "outputs": [
    {
     "name": "stdout",
     "output_type": "stream",
     "text": [
      "WARNING:tensorflow:Eager mode uses the CPU. Switching to the CPU.\n"
     ]
    }
   ],
   "source": [
    "from sklearn.model_selection import train_test_split\n",
    "\n",
    "import tensorflow as tf\n",
    "from tensorflow.keras.preprocessing import image\n",
    "from tensorflow.keras.applications import EfficientNetB0 \n",
    "from tensorflow.keras.layers import *\n",
    "from tensorflow.keras.models import Model\n",
    "from tensorflow.keras.optimizers import Adam\n",
    "\n",
    "# Mac m1 pro tf with gpu\n",
    "from tensorflow.python.compiler.mlcompute import mlcompute \n",
    "mlcompute.set_mlc_device(device_name='gpu') # Available options are 'cpu', 'gpu', and ‘any'.\n",
    "\n",
    "# import custom datagenerator\n",
    "from datagenerator import DataGenerator\n",
    "\n",
    "import json\n",
    "\n",
    "import pandas as pd\n",
    "import numpy as np\n",
    "from glob import glob\n",
    "\n",
    "from PIL import Image\n",
    "import cv2\n",
    "from tqdm import tqdm\n",
    "\n",
    "import warnings\n",
    "warnings.filterwarnings('ignore')\n",
    "warnings.simplefilter('ignore')"
   ]
  },
  {
   "cell_type": "code",
   "execution_count": 2,
   "id": "1428ef56-c71f-4c29-a5cf-d570d34a10a3",
   "metadata": {},
   "outputs": [],
   "source": [
    "data_path = './go_traffic_file'\n",
    "\n",
    "train_path = data_path + '/train'\n",
    "test_path = data_path + '/test'\n",
    "\n",
    "new_image_directory = data_path + '/new_images'\n",
    "new_train_image_directory = new_image_directory + '/train'\n",
    "new_test_image_directory = new_image_directory + '/test'\n",
    "\n",
    "action_information = pd.read_csv(data_path + '/action_information.csv')\n",
    "sample_submission = pd.read_csv(data_path + '/sample_submission.csv')\n",
    "\n",
    "classes = pd.get_dummies(action_information[['Label']], columns = ['Label']).to_numpy()"
   ]
  },
  {
   "cell_type": "code",
   "execution_count": 3,
   "id": "ea0003ff-1cec-489b-9e1a-31fa2bbf9ea5",
   "metadata": {},
   "outputs": [
    {
     "data": {
      "text/plain": [
       "['./go_traffic_file/new_images/train/file_0',\n",
       " './go_traffic_file/new_images/train/file_1',\n",
       " './go_traffic_file/new_images/train/file_2',\n",
       " './go_traffic_file/new_images/train/file_3',\n",
       " './go_traffic_file/new_images/train/file_4']"
      ]
     },
     "execution_count": 3,
     "metadata": {},
     "output_type": "execute_result"
    }
   ],
   "source": [
    "new_train_image_directories = sorted(glob(new_train_image_directory + '/*'), key = lambda x : int(x.split('/')[-1].split('_')[-1]))\n",
    "new_train_image_directories[:5]"
   ]
  },
  {
   "cell_type": "code",
   "execution_count": 4,
   "id": "669c42e5-a1c9-4070-81c4-015a0dabadfc",
   "metadata": {},
   "outputs": [],
   "source": [
    "train_answer = []\n",
    "train_image_directories = sorted(glob(train_path + '/*'), key = lambda x :  int(x.split('_')[-1]))\n",
    "for train_image_directory in train_image_directories:\n",
    "    json_path = glob(train_image_directory + '/*.json')[0]\n",
    "    js = json.load(open(json_path))\n",
    "    action = js.get('action')\n",
    "    train_answer.append(action)"
   ]
  },
  {
   "cell_type": "code",
   "execution_count": 5,
   "id": "4c68bac9-83ef-448c-b7e7-53a4c925a4e7",
   "metadata": {},
   "outputs": [
    {
     "name": "stderr",
     "output_type": "stream",
     "text": [
      "100%|███████████████████████████████████████| 142/142 [00:00<00:00, 1370.02it/s]\n"
     ]
    }
   ],
   "source": [
    "list_IDs = []\n",
    "labels = {}\n",
    "stratify = []\n",
    "\n",
    "for num, (new_train_image_directory, action) in tqdm(enumerate(zip(new_train_image_directories, train_answer)), total = len(new_train_image_directories)):\n",
    "    image_paths = sorted(glob(new_train_image_directory + '/*'), key = lambda x : int(x.split('/')[-1].replace('.jpg','')))\n",
    "    image_len = len(image_paths)\n",
    "    for image_path in image_paths:\n",
    "        list_IDs.append(image_path)\n",
    "        labels[image_path] = classes[action]\n",
    "        stratify.append(action)\n",
    "        \n",
    "list_IDs = np.array(list_IDs)"
   ]
  },
  {
   "cell_type": "code",
   "execution_count": 6,
   "id": "8ce7dda7-2bf0-4dc5-8060-b008f30855ca",
   "metadata": {},
   "outputs": [
    {
     "name": "stdout",
     "output_type": "stream",
     "text": [
      "(17774,)\n",
      "(4444,)\n"
     ]
    }
   ],
   "source": [
    "train_idx, valid_idx = train_test_split(range(len(list_IDs)), test_size=0.2, stratify=stratify)\n",
    "\n",
    "X_train = list_IDs[train_idx]\n",
    "X_valid = list_IDs[valid_idx]\n",
    "\n",
    "print(X_train.shape)\n",
    "print(X_valid.shape)"
   ]
  },
  {
   "cell_type": "code",
   "execution_count": 7,
   "id": "540443fe-b2f7-4846-b71b-dde155d11600",
   "metadata": {},
   "outputs": [],
   "source": [
    "training_generator = DataGenerator(X_train, labels, batch_size=64)\n",
    "validation_generator = DataGenerator(X_valid, labels, batch_size=64)"
   ]
  },
  {
   "cell_type": "code",
   "execution_count": 8,
   "id": "5ea2de7e-c902-4c3b-a6b3-1163c686c7f8",
   "metadata": {},
   "outputs": [],
   "source": [
    "optimizer = Adam(learning_rate=1e-2)"
   ]
  },
  {
   "cell_type": "code",
   "execution_count": 9,
   "id": "1beee5e3-ffaf-4fff-bb27-b60524488eda",
   "metadata": {},
   "outputs": [
    {
     "name": "stdout",
     "output_type": "stream",
     "text": [
      "Downloading data from https://storage.googleapis.com/keras-applications/efficientnetb0_notop.h5\n",
      "16711680/16705208 [==============================] - 8s 0us/step\n"
     ]
    }
   ],
   "source": [
    "baseModel = EfficientNetB0(input_shape = (224,224,3), weights='imagenet', include_top=False,)\n",
    "baseModel.trainable = False\n",
    "\n",
    "model_in = Input(shape = (224,224,3))\n",
    "base_model = baseModel(model_in)\n",
    "head_model = MaxPooling2D(pool_size=(7,7))(base_model)\n",
    "head_model = Flatten(name='flatten')(head_model)\n",
    "head_model = Dense(256, activation='relu')(head_model)\n",
    "head_model = Dropout(0.2)(head_model)\n",
    "head_model = Dense(32, activation='relu')(head_model)\n",
    "head_model = Dropout(0.2)(head_model)\n",
    "head_model = Dense(8, activation='relu')(head_model)\n",
    "head_model = Dropout(0.2)(head_model)\n",
    "\n",
    "model_out = Dense(classes.shape[1], activation='softmax')(head_model)\n",
    "\n",
    "model = Model(inputs=model_in, outputs=model_out, name='EfficientNetB0_1')\n",
    "\n",
    "model.compile(loss='categorical_crossentropy',optimizer=optimizer, metrics=['accuracy'])"
   ]
  },
  {
   "cell_type": "code",
   "execution_count": 11,
   "id": "7c4b98fa-8a0e-48ef-a7bd-57dbc20d4b2a",
   "metadata": {},
   "outputs": [
    {
     "name": "stdout",
     "output_type": "stream",
     "text": [
      "Model: \"EfficientNetB0_1\"\n",
      "_________________________________________________________________\n",
      "Layer (type)                 Output Shape              Param #   \n",
      "=================================================================\n",
      "input_2 (InputLayer)         [(None, 224, 224, 3)]     0         \n",
      "_________________________________________________________________\n",
      "efficientnetb0 (Functional)  (None, 7, 7, 1280)        4049571   \n",
      "_________________________________________________________________\n",
      "max_pooling2d (MaxPooling2D) (None, 1, 1, 1280)        0         \n",
      "_________________________________________________________________\n",
      "flatten (Flatten)            (None, 1280)              0         \n",
      "_________________________________________________________________\n",
      "dense (Dense)                (None, 256)               327936    \n",
      "_________________________________________________________________\n",
      "dropout (Dropout)            (None, 256)               0         \n",
      "_________________________________________________________________\n",
      "dense_1 (Dense)              (None, 32)                8224      \n",
      "_________________________________________________________________\n",
      "dropout_1 (Dropout)          (None, 32)                0         \n",
      "_________________________________________________________________\n",
      "dense_2 (Dense)              (None, 8)                 264       \n",
      "_________________________________________________________________\n",
      "dropout_2 (Dropout)          (None, 8)                 0         \n",
      "_________________________________________________________________\n",
      "dense_3 (Dense)              (None, 6)                 54        \n",
      "=================================================================\n",
      "Total params: 4,386,049\n",
      "Trainable params: 336,478\n",
      "Non-trainable params: 4,049,571\n",
      "_________________________________________________________________\n"
     ]
    }
   ],
   "source": [
    "model.summary()"
   ]
  },
  {
   "cell_type": "code",
   "execution_count": 12,
   "id": "c9718163-6f7a-4e4b-9243-47c03c69c340",
   "metadata": {
    "tags": []
   },
   "outputs": [
    {
     "name": "stderr",
     "output_type": "stream",
     "text": [
      "2021-12-01 15:16:53.874781: I tensorflow/compiler/mlir/mlir_graph_optimization_pass.cc:116] None of the MLIR optimization passes are enabled (registered 2)\n",
      "2021-12-01 15:16:53.875039: W tensorflow/core/platform/profile_utils/cpu_utils.cc:126] Failed to get CPU frequency: 0 Hz\n"
     ]
    },
    {
     "name": "stdout",
     "output_type": "stream",
     "text": [
      "Epoch 1/30\n",
      "277/277 [==============================] - 296s 1s/step - loss: 3.5361 - accuracy: 0.1658 - val_loss: 3.4579 - val_accuracy: 0.1689\n",
      "Epoch 2/30\n",
      "277/277 [==============================] - 296s 1s/step - loss: 6.2696 - accuracy: 0.1750 - val_loss: 1.7919 - val_accuracy: 0.1671\n",
      "Epoch 3/30\n",
      "277/277 [==============================] - 295s 1s/step - loss: 1.7916 - accuracy: 0.1696 - val_loss: 1.7909 - val_accuracy: 0.1791\n",
      "Epoch 4/30\n",
      "277/277 [==============================] - 295s 1s/step - loss: 1.7917 - accuracy: 0.1753 - val_loss: 1.7906 - val_accuracy: 0.1787\n",
      "Epoch 5/30\n",
      "277/277 [==============================] - 294s 1s/step - loss: 1.7913 - accuracy: 0.1776 - val_loss: 1.7907 - val_accuracy: 0.1791\n",
      "Epoch 6/30\n",
      "277/277 [==============================] - 296s 1s/step - loss: 1.7907 - accuracy: 0.1736 - val_loss: 1.7906 - val_accuracy: 0.1784\n",
      "Epoch 7/30\n",
      "277/277 [==============================] - 297s 1s/step - loss: 1.7902 - accuracy: 0.1795 - val_loss: 1.7909 - val_accuracy: 0.1793\n",
      "Epoch 8/30\n",
      "277/277 [==============================] - 296s 1s/step - loss: 1.7905 - accuracy: 0.1831 - val_loss: 1.7909 - val_accuracy: 0.1707\n",
      "Epoch 9/30\n",
      "277/277 [==============================] - 295s 1s/step - loss: 1.7913 - accuracy: 0.1674 - val_loss: 1.7911 - val_accuracy: 0.1787\n",
      "Epoch 10/30\n",
      "277/277 [==============================] - 297s 1s/step - loss: 1.7907 - accuracy: 0.1793 - val_loss: 1.7911 - val_accuracy: 0.1705\n",
      "Epoch 11/30\n",
      "277/277 [==============================] - 297s 1s/step - loss: 1.7916 - accuracy: 0.1742 - val_loss: 1.7907 - val_accuracy: 0.1789\n",
      "Epoch 12/30\n",
      "277/277 [==============================] - 298s 1s/step - loss: 1.7912 - accuracy: 0.1754 - val_loss: 1.7914 - val_accuracy: 0.1789\n",
      "Epoch 13/30\n",
      "277/277 [==============================] - 297s 1s/step - loss: 1.7920 - accuracy: 0.1689 - val_loss: 1.7911 - val_accuracy: 0.1669\n",
      "Epoch 14/30\n",
      "277/277 [==============================] - 295s 1s/step - loss: 1.7914 - accuracy: 0.1732 - val_loss: 1.7906 - val_accuracy: 0.1787\n",
      "Epoch 15/30\n",
      "277/277 [==============================] - 296s 1s/step - loss: 1.7909 - accuracy: 0.1735 - val_loss: 1.7913 - val_accuracy: 0.1787\n",
      "Epoch 16/30\n",
      "277/277 [==============================] - 297s 1s/step - loss: 1.7904 - accuracy: 0.1794 - val_loss: 1.7910 - val_accuracy: 0.1676\n",
      "Epoch 17/30\n",
      " 53/277 [====>.........................] - ETA: 3:20 - loss: 1.7911 - accuracy: 0.1762"
     ]
    },
    {
     "ename": "KeyboardInterrupt",
     "evalue": "",
     "output_type": "error",
     "traceback": [
      "\u001b[0;31m---------------------------------------------------------------------------\u001b[0m",
      "\u001b[0;31mKeyboardInterrupt\u001b[0m                         Traceback (most recent call last)",
      "\u001b[0;32m/var/folders/d9/j4fzl6g10m97nw0c5yzh_bh40000gn/T/ipykernel_719/1168271928.py\u001b[0m in \u001b[0;36m<module>\u001b[0;34m\u001b[0m\n\u001b[0;32m----> 1\u001b[0;31m history = model.fit(\n\u001b[0m\u001b[1;32m      2\u001b[0m      training_generator, epochs=30,verbose=1, validation_data=validation_generator)\n",
      "\u001b[0;32m/opt/homebrew/Caskroom/miniforge/base/envs/tf24/lib/python3.8/site-packages/tensorflow/python/keras/engine/training.py\u001b[0m in \u001b[0;36mfit\u001b[0;34m(self, x, y, batch_size, epochs, verbose, callbacks, validation_split, validation_data, shuffle, class_weight, sample_weight, initial_epoch, steps_per_epoch, validation_steps, validation_batch_size, validation_freq, max_queue_size, workers, use_multiprocessing)\u001b[0m\n\u001b[1;32m   1098\u001b[0m                 _r=1):\n\u001b[1;32m   1099\u001b[0m               \u001b[0mcallbacks\u001b[0m\u001b[0;34m.\u001b[0m\u001b[0mon_train_batch_begin\u001b[0m\u001b[0;34m(\u001b[0m\u001b[0mstep\u001b[0m\u001b[0;34m)\u001b[0m\u001b[0;34m\u001b[0m\u001b[0;34m\u001b[0m\u001b[0m\n\u001b[0;32m-> 1100\u001b[0;31m               \u001b[0mtmp_logs\u001b[0m \u001b[0;34m=\u001b[0m \u001b[0mself\u001b[0m\u001b[0;34m.\u001b[0m\u001b[0mtrain_function\u001b[0m\u001b[0;34m(\u001b[0m\u001b[0miterator\u001b[0m\u001b[0;34m)\u001b[0m\u001b[0;34m\u001b[0m\u001b[0;34m\u001b[0m\u001b[0m\n\u001b[0m\u001b[1;32m   1101\u001b[0m               \u001b[0;32mif\u001b[0m \u001b[0mdata_handler\u001b[0m\u001b[0;34m.\u001b[0m\u001b[0mshould_sync\u001b[0m\u001b[0;34m:\u001b[0m\u001b[0;34m\u001b[0m\u001b[0;34m\u001b[0m\u001b[0m\n\u001b[1;32m   1102\u001b[0m                 \u001b[0mcontext\u001b[0m\u001b[0;34m.\u001b[0m\u001b[0masync_wait\u001b[0m\u001b[0;34m(\u001b[0m\u001b[0;34m)\u001b[0m\u001b[0;34m\u001b[0m\u001b[0;34m\u001b[0m\u001b[0m\n",
      "\u001b[0;32m/opt/homebrew/Caskroom/miniforge/base/envs/tf24/lib/python3.8/site-packages/tensorflow/python/eager/def_function.py\u001b[0m in \u001b[0;36m__call__\u001b[0;34m(self, *args, **kwds)\u001b[0m\n\u001b[1;32m    826\u001b[0m     \u001b[0mtracing_count\u001b[0m \u001b[0;34m=\u001b[0m \u001b[0mself\u001b[0m\u001b[0;34m.\u001b[0m\u001b[0mexperimental_get_tracing_count\u001b[0m\u001b[0;34m(\u001b[0m\u001b[0;34m)\u001b[0m\u001b[0;34m\u001b[0m\u001b[0;34m\u001b[0m\u001b[0m\n\u001b[1;32m    827\u001b[0m     \u001b[0;32mwith\u001b[0m \u001b[0mtrace\u001b[0m\u001b[0;34m.\u001b[0m\u001b[0mTrace\u001b[0m\u001b[0;34m(\u001b[0m\u001b[0mself\u001b[0m\u001b[0;34m.\u001b[0m\u001b[0m_name\u001b[0m\u001b[0;34m)\u001b[0m \u001b[0;32mas\u001b[0m \u001b[0mtm\u001b[0m\u001b[0;34m:\u001b[0m\u001b[0;34m\u001b[0m\u001b[0;34m\u001b[0m\u001b[0m\n\u001b[0;32m--> 828\u001b[0;31m       \u001b[0mresult\u001b[0m \u001b[0;34m=\u001b[0m \u001b[0mself\u001b[0m\u001b[0;34m.\u001b[0m\u001b[0m_call\u001b[0m\u001b[0;34m(\u001b[0m\u001b[0;34m*\u001b[0m\u001b[0margs\u001b[0m\u001b[0;34m,\u001b[0m \u001b[0;34m**\u001b[0m\u001b[0mkwds\u001b[0m\u001b[0;34m)\u001b[0m\u001b[0;34m\u001b[0m\u001b[0;34m\u001b[0m\u001b[0m\n\u001b[0m\u001b[1;32m    829\u001b[0m       \u001b[0mcompiler\u001b[0m \u001b[0;34m=\u001b[0m \u001b[0;34m\"xla\"\u001b[0m \u001b[0;32mif\u001b[0m \u001b[0mself\u001b[0m\u001b[0;34m.\u001b[0m\u001b[0m_experimental_compile\u001b[0m \u001b[0;32melse\u001b[0m \u001b[0;34m\"nonXla\"\u001b[0m\u001b[0;34m\u001b[0m\u001b[0;34m\u001b[0m\u001b[0m\n\u001b[1;32m    830\u001b[0m       \u001b[0mnew_tracing_count\u001b[0m \u001b[0;34m=\u001b[0m \u001b[0mself\u001b[0m\u001b[0;34m.\u001b[0m\u001b[0mexperimental_get_tracing_count\u001b[0m\u001b[0;34m(\u001b[0m\u001b[0;34m)\u001b[0m\u001b[0;34m\u001b[0m\u001b[0;34m\u001b[0m\u001b[0m\n",
      "\u001b[0;32m/opt/homebrew/Caskroom/miniforge/base/envs/tf24/lib/python3.8/site-packages/tensorflow/python/eager/def_function.py\u001b[0m in \u001b[0;36m_call\u001b[0;34m(self, *args, **kwds)\u001b[0m\n\u001b[1;32m    853\u001b[0m       \u001b[0;31m# In this case we have created variables on the first call, so we run the\u001b[0m\u001b[0;34m\u001b[0m\u001b[0;34m\u001b[0m\u001b[0;34m\u001b[0m\u001b[0m\n\u001b[1;32m    854\u001b[0m       \u001b[0;31m# defunned version which is guaranteed to never create variables.\u001b[0m\u001b[0;34m\u001b[0m\u001b[0;34m\u001b[0m\u001b[0;34m\u001b[0m\u001b[0m\n\u001b[0;32m--> 855\u001b[0;31m       \u001b[0;32mreturn\u001b[0m \u001b[0mself\u001b[0m\u001b[0;34m.\u001b[0m\u001b[0m_stateless_fn\u001b[0m\u001b[0;34m(\u001b[0m\u001b[0;34m*\u001b[0m\u001b[0margs\u001b[0m\u001b[0;34m,\u001b[0m \u001b[0;34m**\u001b[0m\u001b[0mkwds\u001b[0m\u001b[0;34m)\u001b[0m  \u001b[0;31m# pylint: disable=not-callable\u001b[0m\u001b[0;34m\u001b[0m\u001b[0;34m\u001b[0m\u001b[0m\n\u001b[0m\u001b[1;32m    856\u001b[0m     \u001b[0;32melif\u001b[0m \u001b[0mself\u001b[0m\u001b[0;34m.\u001b[0m\u001b[0m_stateful_fn\u001b[0m \u001b[0;32mis\u001b[0m \u001b[0;32mnot\u001b[0m \u001b[0;32mNone\u001b[0m\u001b[0;34m:\u001b[0m\u001b[0;34m\u001b[0m\u001b[0;34m\u001b[0m\u001b[0m\n\u001b[1;32m    857\u001b[0m       \u001b[0;31m# Release the lock early so that multiple threads can perform the call\u001b[0m\u001b[0;34m\u001b[0m\u001b[0;34m\u001b[0m\u001b[0;34m\u001b[0m\u001b[0m\n",
      "\u001b[0;32m/opt/homebrew/Caskroom/miniforge/base/envs/tf24/lib/python3.8/site-packages/tensorflow/python/eager/function.py\u001b[0m in \u001b[0;36m__call__\u001b[0;34m(self, *args, **kwargs)\u001b[0m\n\u001b[1;32m   2940\u001b[0m       (graph_function,\n\u001b[1;32m   2941\u001b[0m        filtered_flat_args) = self._maybe_define_function(args, kwargs)\n\u001b[0;32m-> 2942\u001b[0;31m     return graph_function._call_flat(\n\u001b[0m\u001b[1;32m   2943\u001b[0m         filtered_flat_args, captured_inputs=graph_function.captured_inputs)  # pylint: disable=protected-access\n\u001b[1;32m   2944\u001b[0m \u001b[0;34m\u001b[0m\u001b[0m\n",
      "\u001b[0;32m/opt/homebrew/Caskroom/miniforge/base/envs/tf24/lib/python3.8/site-packages/tensorflow/python/eager/function.py\u001b[0m in \u001b[0;36m_call_flat\u001b[0;34m(self, args, captured_inputs, cancellation_manager)\u001b[0m\n\u001b[1;32m   1916\u001b[0m         and executing_eagerly):\n\u001b[1;32m   1917\u001b[0m       \u001b[0;31m# No tape is watching; skip to running the function.\u001b[0m\u001b[0;34m\u001b[0m\u001b[0;34m\u001b[0m\u001b[0;34m\u001b[0m\u001b[0m\n\u001b[0;32m-> 1918\u001b[0;31m       return self._build_call_outputs(self._inference_function.call(\n\u001b[0m\u001b[1;32m   1919\u001b[0m           ctx, args, cancellation_manager=cancellation_manager))\n\u001b[1;32m   1920\u001b[0m     forward_backward = self._select_forward_and_backward_functions(\n",
      "\u001b[0;32m/opt/homebrew/Caskroom/miniforge/base/envs/tf24/lib/python3.8/site-packages/tensorflow/python/eager/function.py\u001b[0m in \u001b[0;36mcall\u001b[0;34m(self, ctx, args, cancellation_manager)\u001b[0m\n\u001b[1;32m    553\u001b[0m       \u001b[0;32mwith\u001b[0m \u001b[0m_InterpolateFunctionError\u001b[0m\u001b[0;34m(\u001b[0m\u001b[0mself\u001b[0m\u001b[0;34m)\u001b[0m\u001b[0;34m:\u001b[0m\u001b[0;34m\u001b[0m\u001b[0;34m\u001b[0m\u001b[0m\n\u001b[1;32m    554\u001b[0m         \u001b[0;32mif\u001b[0m \u001b[0mcancellation_manager\u001b[0m \u001b[0;32mis\u001b[0m \u001b[0;32mNone\u001b[0m\u001b[0;34m:\u001b[0m\u001b[0;34m\u001b[0m\u001b[0;34m\u001b[0m\u001b[0m\n\u001b[0;32m--> 555\u001b[0;31m           outputs = execute.execute(\n\u001b[0m\u001b[1;32m    556\u001b[0m               \u001b[0mstr\u001b[0m\u001b[0;34m(\u001b[0m\u001b[0mself\u001b[0m\u001b[0;34m.\u001b[0m\u001b[0msignature\u001b[0m\u001b[0;34m.\u001b[0m\u001b[0mname\u001b[0m\u001b[0;34m)\u001b[0m\u001b[0;34m,\u001b[0m\u001b[0;34m\u001b[0m\u001b[0;34m\u001b[0m\u001b[0m\n\u001b[1;32m    557\u001b[0m               \u001b[0mnum_outputs\u001b[0m\u001b[0;34m=\u001b[0m\u001b[0mself\u001b[0m\u001b[0;34m.\u001b[0m\u001b[0m_num_outputs\u001b[0m\u001b[0;34m,\u001b[0m\u001b[0;34m\u001b[0m\u001b[0;34m\u001b[0m\u001b[0m\n",
      "\u001b[0;32m/opt/homebrew/Caskroom/miniforge/base/envs/tf24/lib/python3.8/site-packages/tensorflow/python/eager/execute.py\u001b[0m in \u001b[0;36mquick_execute\u001b[0;34m(op_name, num_outputs, inputs, attrs, ctx, name)\u001b[0m\n\u001b[1;32m     57\u001b[0m   \u001b[0;32mtry\u001b[0m\u001b[0;34m:\u001b[0m\u001b[0;34m\u001b[0m\u001b[0;34m\u001b[0m\u001b[0m\n\u001b[1;32m     58\u001b[0m     \u001b[0mctx\u001b[0m\u001b[0;34m.\u001b[0m\u001b[0mensure_initialized\u001b[0m\u001b[0;34m(\u001b[0m\u001b[0;34m)\u001b[0m\u001b[0;34m\u001b[0m\u001b[0;34m\u001b[0m\u001b[0m\n\u001b[0;32m---> 59\u001b[0;31m     tensors = pywrap_tfe.TFE_Py_Execute(ctx._handle, device_name, op_name,\n\u001b[0m\u001b[1;32m     60\u001b[0m                                         inputs, attrs, num_outputs)\n\u001b[1;32m     61\u001b[0m   \u001b[0;32mexcept\u001b[0m \u001b[0mcore\u001b[0m\u001b[0;34m.\u001b[0m\u001b[0m_NotOkStatusException\u001b[0m \u001b[0;32mas\u001b[0m \u001b[0me\u001b[0m\u001b[0;34m:\u001b[0m\u001b[0;34m\u001b[0m\u001b[0;34m\u001b[0m\u001b[0m\n",
      "\u001b[0;31mKeyboardInterrupt\u001b[0m: "
     ]
    }
   ],
   "source": [
    "history = model.fit(\n",
    "     training_generator, epochs=30,verbose=1, validation_data=validation_generator)"
   ]
  },
  {
   "cell_type": "code",
   "execution_count": 21,
   "id": "b8d5dca7-f421-41f5-a92d-dec7d97959c6",
   "metadata": {},
   "outputs": [],
   "source": [
    "training_generator = DataGenerator(X_train, labels, batch_size=128)\n",
    "validation_generator = DataGenerator(X_valid, labels, batch_size=128)"
   ]
  },
  {
   "cell_type": "code",
   "execution_count": 22,
   "id": "406f91d5-a5cf-4dad-8357-dc9d4449ecd4",
   "metadata": {},
   "outputs": [],
   "source": [
    "baseModel = EfficientNetB0(input_shape = (224,224,3), weights='imagenet', include_top=False,)\n",
    "baseModel.trainable = False\n",
    "\n",
    "model_in = Input(shape = (224,224,3))\n",
    "base_model = baseModel(model_in)\n",
    "head_model = MaxPooling2D(pool_size=(7,7))(base_model)\n",
    "head_model = Flatten(name='flatten')(head_model)\n",
    "head_model = Dense(256, activation='relu')(head_model)\n",
    "head_model = Dropout(0.2)(head_model)\n",
    "head_model = Dense(32, activation='relu')(head_model)\n",
    "head_model = Dropout(0.2)(head_model)\n",
    "head_model = Dense(16, activation='relu')(head_model)\n",
    "head_model = Dropout(0.2)(head_model)\n",
    "head_model = Dense(8, activation='relu')(head_model)\n",
    "head_model = Dropout(0.2)(head_model)\n",
    "\n",
    "model_out = Dense(classes.shape[1], activation='softmax')(head_model)\n",
    "\n",
    "model2 = Model(inputs=model_in, outputs=model_out, name='EfficientNetB0_2')\n",
    "\n",
    "model2.compile(loss='categorical_crossentropy',optimizer=optimizer, metrics=['accuracy'])"
   ]
  },
  {
   "cell_type": "code",
   "execution_count": 23,
   "id": "44591d71-bff4-4761-9323-9b304cc257df",
   "metadata": {
    "collapsed": true,
    "jupyter": {
     "outputs_hidden": true
    },
    "tags": []
   },
   "outputs": [
    {
     "name": "stdout",
     "output_type": "stream",
     "text": [
      "Model: \"EfficientNetB0_2\"\n",
      "_________________________________________________________________\n",
      "Layer (type)                 Output Shape              Param #   \n",
      "=================================================================\n",
      "input_8 (InputLayer)         [(None, 224, 224, 3)]     0         \n",
      "_________________________________________________________________\n",
      "efficientnetb0 (Functional)  (None, 7, 7, 1280)        4049571   \n",
      "_________________________________________________________________\n",
      "max_pooling2d_3 (MaxPooling2 (None, 1, 1, 1280)        0         \n",
      "_________________________________________________________________\n",
      "flatten (Flatten)            (None, 1280)              0         \n",
      "_________________________________________________________________\n",
      "dense_12 (Dense)             (None, 256)               327936    \n",
      "_________________________________________________________________\n",
      "dropout_9 (Dropout)          (None, 256)               0         \n",
      "_________________________________________________________________\n",
      "dense_13 (Dense)             (None, 32)                8224      \n",
      "_________________________________________________________________\n",
      "dropout_10 (Dropout)         (None, 32)                0         \n",
      "_________________________________________________________________\n",
      "dense_14 (Dense)             (None, 16)                528       \n",
      "_________________________________________________________________\n",
      "dropout_11 (Dropout)         (None, 16)                0         \n",
      "_________________________________________________________________\n",
      "dense_15 (Dense)             (None, 8)                 136       \n",
      "_________________________________________________________________\n",
      "dropout_12 (Dropout)         (None, 8)                 0         \n",
      "_________________________________________________________________\n",
      "dense_16 (Dense)             (None, 6)                 54        \n",
      "=================================================================\n",
      "Total params: 4,386,449\n",
      "Trainable params: 336,878\n",
      "Non-trainable params: 4,049,571\n",
      "_________________________________________________________________\n"
     ]
    }
   ],
   "source": [
    "model2.summary()"
   ]
  },
  {
   "cell_type": "code",
   "execution_count": 24,
   "id": "1e5a8b8f-2174-49b7-a8d4-6d193ad5b057",
   "metadata": {
    "collapsed": true,
    "jupyter": {
     "outputs_hidden": true
    },
    "tags": []
   },
   "outputs": [
    {
     "name": "stdout",
     "output_type": "stream",
     "text": [
      "Epoch 1/20\n",
      " 25/138 [====>.........................] - ETA: 38:49 - loss: 16.6163 - accuracy: 0.1700"
     ]
    },
    {
     "ename": "KeyboardInterrupt",
     "evalue": "",
     "output_type": "error",
     "traceback": [
      "\u001b[0;31m---------------------------------------------------------------------------\u001b[0m",
      "\u001b[0;31mKeyboardInterrupt\u001b[0m                         Traceback (most recent call last)",
      "\u001b[0;32m/var/folders/d9/j4fzl6g10m97nw0c5yzh_bh40000gn/T/ipykernel_719/3086638482.py\u001b[0m in \u001b[0;36m<module>\u001b[0;34m\u001b[0m\n\u001b[0;32m----> 1\u001b[0;31m history = model2.fit(\n\u001b[0m\u001b[1;32m      2\u001b[0m      training_generator, epochs=20,verbose=1, validation_data=validation_generator)\n",
      "\u001b[0;32m/opt/homebrew/Caskroom/miniforge/base/envs/tf24/lib/python3.8/site-packages/tensorflow/python/keras/engine/training.py\u001b[0m in \u001b[0;36mfit\u001b[0;34m(self, x, y, batch_size, epochs, verbose, callbacks, validation_split, validation_data, shuffle, class_weight, sample_weight, initial_epoch, steps_per_epoch, validation_steps, validation_batch_size, validation_freq, max_queue_size, workers, use_multiprocessing)\u001b[0m\n\u001b[1;32m   1098\u001b[0m                 _r=1):\n\u001b[1;32m   1099\u001b[0m               \u001b[0mcallbacks\u001b[0m\u001b[0;34m.\u001b[0m\u001b[0mon_train_batch_begin\u001b[0m\u001b[0;34m(\u001b[0m\u001b[0mstep\u001b[0m\u001b[0;34m)\u001b[0m\u001b[0;34m\u001b[0m\u001b[0;34m\u001b[0m\u001b[0m\n\u001b[0;32m-> 1100\u001b[0;31m               \u001b[0mtmp_logs\u001b[0m \u001b[0;34m=\u001b[0m \u001b[0mself\u001b[0m\u001b[0;34m.\u001b[0m\u001b[0mtrain_function\u001b[0m\u001b[0;34m(\u001b[0m\u001b[0miterator\u001b[0m\u001b[0;34m)\u001b[0m\u001b[0;34m\u001b[0m\u001b[0;34m\u001b[0m\u001b[0m\n\u001b[0m\u001b[1;32m   1101\u001b[0m               \u001b[0;32mif\u001b[0m \u001b[0mdata_handler\u001b[0m\u001b[0;34m.\u001b[0m\u001b[0mshould_sync\u001b[0m\u001b[0;34m:\u001b[0m\u001b[0;34m\u001b[0m\u001b[0;34m\u001b[0m\u001b[0m\n\u001b[1;32m   1102\u001b[0m                 \u001b[0mcontext\u001b[0m\u001b[0;34m.\u001b[0m\u001b[0masync_wait\u001b[0m\u001b[0;34m(\u001b[0m\u001b[0;34m)\u001b[0m\u001b[0;34m\u001b[0m\u001b[0;34m\u001b[0m\u001b[0m\n",
      "\u001b[0;32m/opt/homebrew/Caskroom/miniforge/base/envs/tf24/lib/python3.8/site-packages/tensorflow/python/eager/def_function.py\u001b[0m in \u001b[0;36m__call__\u001b[0;34m(self, *args, **kwds)\u001b[0m\n\u001b[1;32m    826\u001b[0m     \u001b[0mtracing_count\u001b[0m \u001b[0;34m=\u001b[0m \u001b[0mself\u001b[0m\u001b[0;34m.\u001b[0m\u001b[0mexperimental_get_tracing_count\u001b[0m\u001b[0;34m(\u001b[0m\u001b[0;34m)\u001b[0m\u001b[0;34m\u001b[0m\u001b[0;34m\u001b[0m\u001b[0m\n\u001b[1;32m    827\u001b[0m     \u001b[0;32mwith\u001b[0m \u001b[0mtrace\u001b[0m\u001b[0;34m.\u001b[0m\u001b[0mTrace\u001b[0m\u001b[0;34m(\u001b[0m\u001b[0mself\u001b[0m\u001b[0;34m.\u001b[0m\u001b[0m_name\u001b[0m\u001b[0;34m)\u001b[0m \u001b[0;32mas\u001b[0m \u001b[0mtm\u001b[0m\u001b[0;34m:\u001b[0m\u001b[0;34m\u001b[0m\u001b[0;34m\u001b[0m\u001b[0m\n\u001b[0;32m--> 828\u001b[0;31m       \u001b[0mresult\u001b[0m \u001b[0;34m=\u001b[0m \u001b[0mself\u001b[0m\u001b[0;34m.\u001b[0m\u001b[0m_call\u001b[0m\u001b[0;34m(\u001b[0m\u001b[0;34m*\u001b[0m\u001b[0margs\u001b[0m\u001b[0;34m,\u001b[0m \u001b[0;34m**\u001b[0m\u001b[0mkwds\u001b[0m\u001b[0;34m)\u001b[0m\u001b[0;34m\u001b[0m\u001b[0;34m\u001b[0m\u001b[0m\n\u001b[0m\u001b[1;32m    829\u001b[0m       \u001b[0mcompiler\u001b[0m \u001b[0;34m=\u001b[0m \u001b[0;34m\"xla\"\u001b[0m \u001b[0;32mif\u001b[0m \u001b[0mself\u001b[0m\u001b[0;34m.\u001b[0m\u001b[0m_experimental_compile\u001b[0m \u001b[0;32melse\u001b[0m \u001b[0;34m\"nonXla\"\u001b[0m\u001b[0;34m\u001b[0m\u001b[0;34m\u001b[0m\u001b[0m\n\u001b[1;32m    830\u001b[0m       \u001b[0mnew_tracing_count\u001b[0m \u001b[0;34m=\u001b[0m \u001b[0mself\u001b[0m\u001b[0;34m.\u001b[0m\u001b[0mexperimental_get_tracing_count\u001b[0m\u001b[0;34m(\u001b[0m\u001b[0;34m)\u001b[0m\u001b[0;34m\u001b[0m\u001b[0;34m\u001b[0m\u001b[0m\n",
      "\u001b[0;32m/opt/homebrew/Caskroom/miniforge/base/envs/tf24/lib/python3.8/site-packages/tensorflow/python/eager/def_function.py\u001b[0m in \u001b[0;36m_call\u001b[0;34m(self, *args, **kwds)\u001b[0m\n\u001b[1;32m    853\u001b[0m       \u001b[0;31m# In this case we have created variables on the first call, so we run the\u001b[0m\u001b[0;34m\u001b[0m\u001b[0;34m\u001b[0m\u001b[0;34m\u001b[0m\u001b[0m\n\u001b[1;32m    854\u001b[0m       \u001b[0;31m# defunned version which is guaranteed to never create variables.\u001b[0m\u001b[0;34m\u001b[0m\u001b[0;34m\u001b[0m\u001b[0;34m\u001b[0m\u001b[0m\n\u001b[0;32m--> 855\u001b[0;31m       \u001b[0;32mreturn\u001b[0m \u001b[0mself\u001b[0m\u001b[0;34m.\u001b[0m\u001b[0m_stateless_fn\u001b[0m\u001b[0;34m(\u001b[0m\u001b[0;34m*\u001b[0m\u001b[0margs\u001b[0m\u001b[0;34m,\u001b[0m \u001b[0;34m**\u001b[0m\u001b[0mkwds\u001b[0m\u001b[0;34m)\u001b[0m  \u001b[0;31m# pylint: disable=not-callable\u001b[0m\u001b[0;34m\u001b[0m\u001b[0;34m\u001b[0m\u001b[0m\n\u001b[0m\u001b[1;32m    856\u001b[0m     \u001b[0;32melif\u001b[0m \u001b[0mself\u001b[0m\u001b[0;34m.\u001b[0m\u001b[0m_stateful_fn\u001b[0m \u001b[0;32mis\u001b[0m \u001b[0;32mnot\u001b[0m \u001b[0;32mNone\u001b[0m\u001b[0;34m:\u001b[0m\u001b[0;34m\u001b[0m\u001b[0;34m\u001b[0m\u001b[0m\n\u001b[1;32m    857\u001b[0m       \u001b[0;31m# Release the lock early so that multiple threads can perform the call\u001b[0m\u001b[0;34m\u001b[0m\u001b[0;34m\u001b[0m\u001b[0;34m\u001b[0m\u001b[0m\n",
      "\u001b[0;32m/opt/homebrew/Caskroom/miniforge/base/envs/tf24/lib/python3.8/site-packages/tensorflow/python/eager/function.py\u001b[0m in \u001b[0;36m__call__\u001b[0;34m(self, *args, **kwargs)\u001b[0m\n\u001b[1;32m   2940\u001b[0m       (graph_function,\n\u001b[1;32m   2941\u001b[0m        filtered_flat_args) = self._maybe_define_function(args, kwargs)\n\u001b[0;32m-> 2942\u001b[0;31m     return graph_function._call_flat(\n\u001b[0m\u001b[1;32m   2943\u001b[0m         filtered_flat_args, captured_inputs=graph_function.captured_inputs)  # pylint: disable=protected-access\n\u001b[1;32m   2944\u001b[0m \u001b[0;34m\u001b[0m\u001b[0m\n",
      "\u001b[0;32m/opt/homebrew/Caskroom/miniforge/base/envs/tf24/lib/python3.8/site-packages/tensorflow/python/eager/function.py\u001b[0m in \u001b[0;36m_call_flat\u001b[0;34m(self, args, captured_inputs, cancellation_manager)\u001b[0m\n\u001b[1;32m   1916\u001b[0m         and executing_eagerly):\n\u001b[1;32m   1917\u001b[0m       \u001b[0;31m# No tape is watching; skip to running the function.\u001b[0m\u001b[0;34m\u001b[0m\u001b[0;34m\u001b[0m\u001b[0;34m\u001b[0m\u001b[0m\n\u001b[0;32m-> 1918\u001b[0;31m       return self._build_call_outputs(self._inference_function.call(\n\u001b[0m\u001b[1;32m   1919\u001b[0m           ctx, args, cancellation_manager=cancellation_manager))\n\u001b[1;32m   1920\u001b[0m     forward_backward = self._select_forward_and_backward_functions(\n",
      "\u001b[0;32m/opt/homebrew/Caskroom/miniforge/base/envs/tf24/lib/python3.8/site-packages/tensorflow/python/eager/function.py\u001b[0m in \u001b[0;36mcall\u001b[0;34m(self, ctx, args, cancellation_manager)\u001b[0m\n\u001b[1;32m    553\u001b[0m       \u001b[0;32mwith\u001b[0m \u001b[0m_InterpolateFunctionError\u001b[0m\u001b[0;34m(\u001b[0m\u001b[0mself\u001b[0m\u001b[0;34m)\u001b[0m\u001b[0;34m:\u001b[0m\u001b[0;34m\u001b[0m\u001b[0;34m\u001b[0m\u001b[0m\n\u001b[1;32m    554\u001b[0m         \u001b[0;32mif\u001b[0m \u001b[0mcancellation_manager\u001b[0m \u001b[0;32mis\u001b[0m \u001b[0;32mNone\u001b[0m\u001b[0;34m:\u001b[0m\u001b[0;34m\u001b[0m\u001b[0;34m\u001b[0m\u001b[0m\n\u001b[0;32m--> 555\u001b[0;31m           outputs = execute.execute(\n\u001b[0m\u001b[1;32m    556\u001b[0m               \u001b[0mstr\u001b[0m\u001b[0;34m(\u001b[0m\u001b[0mself\u001b[0m\u001b[0;34m.\u001b[0m\u001b[0msignature\u001b[0m\u001b[0;34m.\u001b[0m\u001b[0mname\u001b[0m\u001b[0;34m)\u001b[0m\u001b[0;34m,\u001b[0m\u001b[0;34m\u001b[0m\u001b[0;34m\u001b[0m\u001b[0m\n\u001b[1;32m    557\u001b[0m               \u001b[0mnum_outputs\u001b[0m\u001b[0;34m=\u001b[0m\u001b[0mself\u001b[0m\u001b[0;34m.\u001b[0m\u001b[0m_num_outputs\u001b[0m\u001b[0;34m,\u001b[0m\u001b[0;34m\u001b[0m\u001b[0;34m\u001b[0m\u001b[0m\n",
      "\u001b[0;32m/opt/homebrew/Caskroom/miniforge/base/envs/tf24/lib/python3.8/site-packages/tensorflow/python/eager/execute.py\u001b[0m in \u001b[0;36mquick_execute\u001b[0;34m(op_name, num_outputs, inputs, attrs, ctx, name)\u001b[0m\n\u001b[1;32m     57\u001b[0m   \u001b[0;32mtry\u001b[0m\u001b[0;34m:\u001b[0m\u001b[0;34m\u001b[0m\u001b[0;34m\u001b[0m\u001b[0m\n\u001b[1;32m     58\u001b[0m     \u001b[0mctx\u001b[0m\u001b[0;34m.\u001b[0m\u001b[0mensure_initialized\u001b[0m\u001b[0;34m(\u001b[0m\u001b[0;34m)\u001b[0m\u001b[0;34m\u001b[0m\u001b[0;34m\u001b[0m\u001b[0m\n\u001b[0;32m---> 59\u001b[0;31m     tensors = pywrap_tfe.TFE_Py_Execute(ctx._handle, device_name, op_name,\n\u001b[0m\u001b[1;32m     60\u001b[0m                                         inputs, attrs, num_outputs)\n\u001b[1;32m     61\u001b[0m   \u001b[0;32mexcept\u001b[0m \u001b[0mcore\u001b[0m\u001b[0;34m.\u001b[0m\u001b[0m_NotOkStatusException\u001b[0m \u001b[0;32mas\u001b[0m \u001b[0me\u001b[0m\u001b[0;34m:\u001b[0m\u001b[0;34m\u001b[0m\u001b[0;34m\u001b[0m\u001b[0m\n",
      "\u001b[0;31mKeyboardInterrupt\u001b[0m: "
     ]
    }
   ],
   "source": [
    "history = model2.fit(\n",
    "     training_generator, epochs=20,verbose=1, validation_data=validation_generator)"
   ]
  },
  {
   "cell_type": "code",
   "execution_count": null,
   "id": "4ebcee85-57b5-4d67-9a46-c276a1cb9904",
   "metadata": {},
   "outputs": [
    {
     "name": "stdout",
     "output_type": "stream",
     "text": [
      "Model: \"EfficientNetB0_3\"\n",
      "_________________________________________________________________\n",
      "Layer (type)                 Output Shape              Param #   \n",
      "=================================================================\n",
      "input_10 (InputLayer)        [(None, 224, 224, 3)]     0         \n",
      "_________________________________________________________________\n",
      "efficientnetb0 (Functional)  (None, 7, 7, 1280)        4049571   \n",
      "_________________________________________________________________\n",
      "max_pooling2d_4 (MaxPooling2 (None, 1, 1, 1280)        0         \n",
      "_________________________________________________________________\n",
      "flatten (Flatten)            (None, 1280)              0         \n",
      "_________________________________________________________________\n",
      "dense_17 (Dense)             (None, 256)               327936    \n",
      "_________________________________________________________________\n",
      "dropout_13 (Dropout)         (None, 256)               0         \n",
      "_________________________________________________________________\n",
      "dense_18 (Dense)             (None, 32)                8224      \n",
      "_________________________________________________________________\n",
      "dropout_14 (Dropout)         (None, 32)                0         \n",
      "_________________________________________________________________\n",
      "dense_19 (Dense)             (None, 8)                 264       \n",
      "_________________________________________________________________\n",
      "dropout_15 (Dropout)         (None, 8)                 0         \n",
      "_________________________________________________________________\n",
      "dense_20 (Dense)             (None, 6)                 54        \n",
      "=================================================================\n",
      "Total params: 4,386,049\n",
      "Trainable params: 336,478\n",
      "Non-trainable params: 4,049,571\n",
      "_________________________________________________________________\n",
      "Epoch 1/50\n",
      "555/555 [==============================] - 314s 563ms/step - loss: 1.9453 - accuracy: 0.1800 - val_loss: 6.8745 - val_accuracy: 0.1452\n",
      "Epoch 2/50\n",
      "555/555 [==============================] - 311s 561ms/step - loss: 2.0068 - accuracy: 0.1774 - val_loss: 1.7905 - val_accuracy: 0.1784\n",
      "Epoch 3/50\n",
      "555/555 [==============================] - 312s 562ms/step - loss: 1.7909 - accuracy: 0.1836 - val_loss: 1.7904 - val_accuracy: 0.1798\n",
      "Epoch 4/50\n",
      "555/555 [==============================] - 3679s 7s/step - loss: 1.7908 - accuracy: 0.1784 - val_loss: 1.7905 - val_accuracy: 0.1789\n",
      "Epoch 5/50\n",
      "555/555 [==============================] - 311s 560ms/step - loss: 1.7911 - accuracy: 0.1783 - val_loss: 1.7906 - val_accuracy: 0.1778\n",
      "Epoch 6/50\n",
      "555/555 [==============================] - 26919s 49s/step - loss: 1.7901 - accuracy: 0.1822 - val_loss: 1.7905 - val_accuracy: 0.1791\n",
      "Epoch 7/50\n",
      "555/555 [==============================] - 36881s 67s/step - loss: 1.7910 - accuracy: 0.1786 - val_loss: 1.7905 - val_accuracy: 0.1791\n",
      "Epoch 8/50\n",
      "555/555 [==============================] - 10128s 18s/step - loss: 1.7904 - accuracy: 0.1781 - val_loss: 1.7905 - val_accuracy: 0.1798\n",
      "Epoch 9/50\n",
      "555/555 [==============================] - 311s 560ms/step - loss: 1.7965 - accuracy: 0.1775 - val_loss: 1.7904 - val_accuracy: 0.1796\n",
      "Epoch 10/50\n",
      "555/555 [==============================] - 310s 557ms/step - loss: 1.7909 - accuracy: 0.1772 - val_loss: 1.7906 - val_accuracy: 0.1780\n",
      "Epoch 11/50\n",
      "555/555 [==============================] - 312s 561ms/step - loss: 1.7915 - accuracy: 0.1773 - val_loss: 1.7905 - val_accuracy: 0.1793\n",
      "Epoch 12/50\n",
      "555/555 [==============================] - 311s 560ms/step - loss: 1.7917 - accuracy: 0.1767 - val_loss: 1.7904 - val_accuracy: 0.1796\n",
      "Epoch 13/50\n",
      "555/555 [==============================] - 310s 558ms/step - loss: 1.7906 - accuracy: 0.1822 - val_loss: 1.7905 - val_accuracy: 0.1782\n",
      "Epoch 14/50\n",
      "555/555 [==============================] - 311s 561ms/step - loss: 1.7914 - accuracy: 0.1750 - val_loss: 1.7904 - val_accuracy: 0.1791\n",
      "Epoch 15/50\n",
      "555/555 [==============================] - 369s 664ms/step - loss: 1.7905 - accuracy: 0.1762 - val_loss: 1.7904 - val_accuracy: 0.1793\n",
      "Epoch 16/50\n",
      "555/555 [==============================] - 310s 557ms/step - loss: 1.7903 - accuracy: 0.1823 - val_loss: 1.7905 - val_accuracy: 0.1782\n",
      "Epoch 17/50\n",
      "555/555 [==============================] - 310s 559ms/step - loss: 1.7903 - accuracy: 0.1864 - val_loss: 1.7905 - val_accuracy: 0.1793\n",
      "Epoch 18/50\n",
      "555/555 [==============================] - 310s 559ms/step - loss: 1.7913 - accuracy: 0.1776 - val_loss: 1.7905 - val_accuracy: 0.1782\n",
      "Epoch 19/50\n",
      "555/555 [==============================] - 312s 562ms/step - loss: 1.7906 - accuracy: 0.1768 - val_loss: 1.7904 - val_accuracy: 0.1793\n",
      "Epoch 20/50\n",
      "555/555 [==============================] - 312s 562ms/step - loss: 1.7906 - accuracy: 0.1791 - val_loss: 1.7905 - val_accuracy: 0.1782\n",
      "Epoch 21/50\n",
      "555/555 [==============================] - 312s 562ms/step - loss: 1.7903 - accuracy: 0.1797 - val_loss: 1.7905 - val_accuracy: 0.1789\n",
      "Epoch 22/50\n",
      "555/555 [==============================] - 313s 562ms/step - loss: 1.7910 - accuracy: 0.1774 - val_loss: 1.7904 - val_accuracy: 0.1791\n",
      "Epoch 23/50\n",
      "555/555 [==============================] - 313s 564ms/step - loss: 1.7915 - accuracy: 0.1803 - val_loss: 1.7906 - val_accuracy: 0.1782\n",
      "Epoch 24/50\n",
      "555/555 [==============================] - 313s 564ms/step - loss: 1.7909 - accuracy: 0.1780 - val_loss: 1.7905 - val_accuracy: 0.1796\n",
      "Epoch 25/50\n",
      "555/555 [==============================] - 312s 562ms/step - loss: 1.7906 - accuracy: 0.1766 - val_loss: 1.7904 - val_accuracy: 0.1800\n",
      "Epoch 26/50\n",
      "555/555 [==============================] - 12154s 22s/step - loss: 1.7906 - accuracy: 0.1807 - val_loss: 1.7905 - val_accuracy: 0.1793\n",
      "Epoch 27/50\n",
      "555/555 [==============================] - 1403s 3s/step - loss: 1.7901 - accuracy: 0.1836 - val_loss: 1.7906 - val_accuracy: 0.1778\n",
      "Epoch 28/50\n",
      "555/555 [==============================] - 297s 535ms/step - loss: 1.7908 - accuracy: 0.1816 - val_loss: 1.7904 - val_accuracy: 0.1793\n",
      "Epoch 29/50\n",
      "555/555 [==============================] - 301s 543ms/step - loss: 1.7906 - accuracy: 0.1771 - val_loss: 1.7905 - val_accuracy: 0.1787\n",
      "Epoch 30/50\n",
      "555/555 [==============================] - 307s 552ms/step - loss: 1.7908 - accuracy: 0.1773 - val_loss: 1.7905 - val_accuracy: 0.1789\n",
      "Epoch 31/50\n",
      "161/555 [=======>......................] - ETA: 2:55 - loss: 1.7893 - accuracy: 0.1757"
     ]
    }
   ],
   "source": [
    "batch_size = 32\n",
    "learning_rate = 1e-3\n",
    "optimizer = Adam(learning_rate=learning_rate)\n",
    "model_name ='EfficientNetB0_3'\n",
    "epochs = 50\n",
    "\n",
    "training_generator = DataGenerator(X_train, labels, batch_size=batch_size)\n",
    "validation_generator = DataGenerator(X_valid, labels, batch_size=batch_size)\n",
    "\n",
    "baseModel = EfficientNetB0(input_shape = (224,224,3), weights='imagenet', include_top=False,)\n",
    "baseModel.trainable = False\n",
    "\n",
    "model_in = Input(shape = (224,224,3))\n",
    "base_model = baseModel(model_in)\n",
    "head_model = MaxPooling2D(pool_size=(7,7))(base_model)\n",
    "head_model = Flatten(name='flatten')(head_model)\n",
    "head_model = Dense(256, activation='relu')(head_model)\n",
    "head_model = Dropout(0.2)(head_model)\n",
    "head_model = Dense(32, activation='relu')(head_model)\n",
    "head_model = Dropout(0.2)(head_model)\n",
    "head_model = Dense(8, activation='relu')(head_model)\n",
    "head_model = Dropout(0.2)(head_model)\n",
    "\n",
    "model_out = Dense(classes.shape[1], activation='softmax')(head_model)\n",
    "\n",
    "model = Model(inputs=model_in, outputs=model_out, name=model_name)\n",
    "\n",
    "model.compile(loss='categorical_crossentropy',optimizer=optimizer, metrics=['accuracy'])\n",
    "\n",
    "model.summary()\n",
    "\n",
    "history = model.fit(\n",
    "     training_generator, epochs=epochs,verbose=1, validation_data=validation_generator)"
   ]
  },
  {
   "cell_type": "code",
   "execution_count": null,
   "id": "8e68af16-78cd-46a9-b641-5ec453aa15e0",
   "metadata": {},
   "outputs": [],
   "source": []
  }
 ],
 "metadata": {
  "kernelspec": {
   "display_name": "tf24",
   "language": "python",
   "name": "tf24"
  },
  "language_info": {
   "codemirror_mode": {
    "name": "ipython",
    "version": 3
   },
   "file_extension": ".py",
   "mimetype": "text/x-python",
   "name": "python",
   "nbconvert_exporter": "python",
   "pygments_lexer": "ipython3",
   "version": "3.8.6"
  }
 },
 "nbformat": 4,
 "nbformat_minor": 5
}
